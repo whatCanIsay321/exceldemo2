{
 "cells": [
  {
   "cell_type": "code",
   "execution_count": 50,
   "id": "264759d4-fd12-45b1-9d6d-ae76d5d78abb",
   "metadata": {},
   "outputs": [
    {
     "name": "stdout",
     "output_type": "stream",
     "text": [
      "['C:\\\\Users\\\\junjie.tang\\\\.conda\\\\envs\\\\exceldemo\\\\python312.zip', 'C:\\\\Users\\\\junjie.tang\\\\.conda\\\\envs\\\\exceldemo\\\\DLLs', 'C:\\\\Users\\\\junjie.tang\\\\.conda\\\\envs\\\\exceldemo\\\\Lib', 'C:\\\\Users\\\\junjie.tang\\\\.conda\\\\envs\\\\exceldemo', '', 'C:\\\\Users\\\\junjie.tang\\\\AppData\\\\Roaming\\\\Python\\\\Python312\\\\site-packages', 'C:\\\\Users\\\\junjie.tang\\\\.conda\\\\envs\\\\exceldemo\\\\Lib\\\\site-packages', 'C:\\\\Users\\\\junjie.tang\\\\.conda\\\\envs\\\\exceldemo\\\\Lib\\\\site-packages\\\\win32', 'C:\\\\Users\\\\junjie.tang\\\\.conda\\\\envs\\\\exceldemo\\\\Lib\\\\site-packages\\\\win32\\\\lib', 'C:\\\\Users\\\\junjie.tang\\\\.conda\\\\envs\\\\exceldemo\\\\Lib\\\\site-packages\\\\Pythonwin', 'D:\\\\PycharmProjects\\\\exceldemo2\\\\src', 'D:\\\\PycharmProjects\\\\exceldemo2\\\\src', 'D:\\\\PycharmProjects\\\\exceldemo2\\\\src', 'D:\\\\PycharmProjects\\\\exceldemo2', 'D:\\\\PycharmProjects\\\\exceldemo2']\n"
     ]
    }
   ],
   "source": [
    "import sys\n",
    "\n",
    "sys.path.append(os.path.abspath(\"../\"))\n",
    "print(sys.path)"
   ]
  },
  {
   "cell_type": "code",
   "execution_count": 51,
   "id": "63b6bd20-ec95-46d8-8713-e58d92c197c3",
   "metadata": {},
   "outputs": [],
   "source": [
    "from src.prompt_manager import PromptManager\n",
    "from src.config import Config\n",
    "from pydantic import BaseModel\n",
    "from src.llm_singleton import OpenAIClientSingleton\n",
    "from src.token_singleton import TokenizerSingleton\n",
    "from src.extract_item import item\n",
    "from src.utils import build_messages\n",
    "import json\n",
    "config = Config()\n",
    "render_parameters = item().render_parameters\n",
    "for key, value in config.model_dump().items():\n",
    "    PromptManager().register_base(key,value)\n",
    "    if key in render_parameters:\n",
    "        PromptManager().render_base(key,**render_parameters.get(key))\n",
    "    else:\n",
    "        PromptManager().render_base(key)"
   ]
  },
  {
   "cell_type": "code",
   "execution_count": 41,
   "id": "4c08e0b6-78d1-4bfd-bfe3-0d288c532dd9",
   "metadata": {},
   "outputs": [
    {
     "name": "stdout",
     "output_type": "stream",
     "text": [
      "#  角色说明\n",
      "- 你是一个智能助手，你将收到一个Json格式的Excel表格，你需要识别出这个表格的结构。\n",
      "\n",
      "---\n",
      "\n",
      "#  输入格式说明\n",
      "- 用户输入的整个 JSON 是一个对象（`Object`），表示一张 Excel 表格。\n",
      "- 每个键的格式为 `\"行号X\"`，表示 Excel 中的第 X 行（如 `\"行号0\"` 表示第一行）。\n",
      "- 每一行的值是一个嵌套对象，对应该行中的若干单元格数据。\n",
      "  - 该对象的键为 `\"列号Y\"`，表示 Excel 中的第 Y 列（如 `\"列号0\"` 表示第一列）。\n",
      "  - 该键对应的值为该单元格中的文本内容。\n",
      "- 如果某个单元格为空，在该行的对象中会省略对应的 `\"列号Y\"`。\n",
      "- 因此，整个 JSON 实际上是以“行号 + 列号”为二维坐标的方式来表示 Excel 表格的内容。\n",
      "- 示例：\n",
      "```json\n",
      "{\n",
      "  \"行号0\": {\n",
      "    \"列号0\": \"购电月份\",\n",
      "    \"列号1\": \"总电量\",\n",
      "    \"列号2\": \"发电客户编号\"\n",
      "  },\n",
      "  \"行号1\": {\n",
      "    \"列号0\": \"2024年12月\",\n",
      "    \"列号2\": \"15000\"\n",
      "  }\n",
      "}\n",
      "···\n",
      "\n",
      "---\n",
      "\n",
      "#  Excel表格结构说明\n",
      "- 结构化表格：这种表格的开头是几行表头，剩下的行全是数据行或者合计行。\n",
      "- 半结构化表格：这种表格主要上是由几个子表格组成。\n",
      "\n",
      "---\n",
      "\n",
      "#  任务要求\n",
      "- 识别出表格所属类别。输出1代表结构化表格，2代表半结构化表格。\n",
      "\n",
      "---\n",
      "\n",
      "#  输出格式（JSON）（严格遵循）:\n",
      "```json\n",
      "{\n",
      "  \"type\": enum[1,2]\n",
      "}\n",
      "```\n",
      "\n",
      "---\n",
      "\n",
      "\n"
     ]
    }
   ],
   "source": [
    "print(PromptManager().get(\"type_system\"))"
   ]
  },
  {
   "cell_type": "code",
   "execution_count": 42,
   "id": "8569569d-ceaa-4fdd-ba86-2947fe6962fa",
   "metadata": {},
   "outputs": [],
   "source": [
    "input = {\n",
    "  \"行号0\": {\n",
    "    \"列号0\": \"购电月份\",\n",
    "    \"列号1\": \"总电量\",\n",
    "    \"列号2\": \"发电客户编号\"\n",
    "  },\n",
    "  \"行号1\": {\n",
    "    \"列号0\": \"2024年12月\",\n",
    "    \"列号2\": \"15000\"\n",
    "  }\n",
    "}\n",
    "\n",
    "\n"
   ]
  },
  {
   "cell_type": "code",
   "execution_count": 43,
   "id": "a51a2351-50b6-4868-af9c-2a21f61ac667",
   "metadata": {},
   "outputs": [],
   "source": [
    "messages = build_messages('你好','用户输入',input)"
   ]
  },
  {
   "cell_type": "code",
   "execution_count": 44,
   "id": "817f7d07-fe46-4a44-ae8b-18410df46950",
   "metadata": {},
   "outputs": [
    {
     "name": "stdout",
     "output_type": "stream",
     "text": [
      "[{'role': 'system', 'content': '你好'}, {'role': 'user', 'content': \"用户输入\\n{'行号0': {'列号0': '购电月份', '列号1': '总电量', '列号2': '发电客户编号'}, '行号1': {'列号0': '2024年12月', '列号2': '15000'}}/no_think\"}]\n"
     ]
    }
   ],
   "source": [
    "print(messages)"
   ]
  },
  {
   "cell_type": "code",
   "execution_count": 52,
   "id": "21b9713a-1b0a-45e4-bd3f-6eca9f15a1d3",
   "metadata": {},
   "outputs": [],
   "source": [
    "tokenizer = TokenizerSingleton().get_tokenizer()\n"
   ]
  },
  {
   "cell_type": "code",
   "execution_count": 53,
   "id": "6d5464eb-7a59-4d7e-b037-636e3eb955a8",
   "metadata": {},
   "outputs": [],
   "source": [
    "text = tokenizer.apply_chat_template(messages, tokenize=False, add_generation_prompt=True)"
   ]
  },
  {
   "cell_type": "code",
   "execution_count": 54,
   "id": "6859287a-f6d0-4adb-998c-c8e00782320a",
   "metadata": {},
   "outputs": [
    {
     "name": "stdout",
     "output_type": "stream",
     "text": [
      "<|im_start|>system\n",
      "你好<|im_end|>\n",
      "<|im_start|>user\n",
      "用户输入\n",
      "{'行号0': {'列号0': '购电月份', '列号1': '总电量', '列号2': '发电客户编号'}, '行号1': {'列号0': '2024年12月', '列号2': '15000'}}/no_think<|im_end|>\n",
      "<|im_start|>assistant\n",
      "\n"
     ]
    }
   ],
   "source": [
    "print(text)"
   ]
  },
  {
   "cell_type": "code",
   "execution_count": 55,
   "id": "a8336455-00c9-4935-af39-c8085f78be95",
   "metadata": {},
   "outputs": [],
   "source": [
    "import json\n",
    "\n",
    "# data = {\"name\": \"Alice\", \"age\": 30, \"city\": \"Beijing\"}\n",
    "\n",
    "# # 使用 f-string 输出为 JSON 格式\n",
    "# print(f\"{json.dumps(data, ensure_ascii=False)}\")\n"
   ]
  },
  {
   "cell_type": "code",
   "execution_count": 60,
   "id": "edac7910-5af2-4471-83f4-b41c53131492",
   "metadata": {},
   "outputs": [
    {
     "name": "stdout",
     "output_type": "stream",
     "text": [
      "87\n"
     ]
    }
   ],
   "source": [
    "print(len(tokenizer(text)[\"input_ids\"]))"
   ]
  },
  {
   "cell_type": "code",
   "execution_count": 92,
   "id": "fd2eb7c0-3463-4b51-a357-c0115bf3c26a",
   "metadata": {},
   "outputs": [],
   "source": [
    "import json\n",
    "input2 = json.dumps(input, separators=(\",\", \":\"),ensure_ascii=False,indent=1)"
   ]
  },
  {
   "cell_type": "code",
   "execution_count": 93,
   "id": "fbcede34-37dc-4e2e-8aca-d0d01a56ba0c",
   "metadata": {},
   "outputs": [
    {
     "name": "stdout",
     "output_type": "stream",
     "text": [
      "{\n",
      " \"行号0\": {\n",
      "  \"列号0\": \"购电月份\",\n",
      "  \"列号1\": \"总电量\",\n",
      "  \"列号2\": \"发电客户编号\"\n",
      " },\n",
      " \"行号1\": {\n",
      "  \"列号0\": \"2024年12月\",\n",
      "  \"列号2\": \"15000\"\n",
      " }\n",
      "}\n"
     ]
    }
   ],
   "source": [
    "print(input2\n",
    "     )"
   ]
  },
  {
   "cell_type": "code",
   "execution_count": 89,
   "id": "8ae56827-6b6c-4f51-9a59-de82437219f8",
   "metadata": {},
   "outputs": [
    {
     "name": "stdout",
     "output_type": "stream",
     "text": [
      "<|im_start|>system\n",
      "你好<|im_end|>\n",
      "<|im_start|>user\n",
      "用户输入\n",
      "{\n",
      " \"行号0\": {\n",
      "  \"列号0\": \"购电月份\",\n",
      "  \"列号1\": \"总电量\",\n",
      "  \"列号2\": \"发电客户编号\"\n",
      " },\n",
      " \"行号1\": {\n",
      "  \"列号0\": \"2024年12月\",\n",
      "  \"列号2\": \"15000\"\n",
      " }\n",
      "}/no_think<|im_end|>\n",
      "<|im_start|>assistant\n",
      "\n"
     ]
    }
   ],
   "source": [
    "messages2 = build_messages('你好','用户输入',input2)\n",
    "text2 = tokenizer.apply_chat_template(messages2, tokenize=False, add_generation_prompt=True)\n",
    "print(text2)"
   ]
  },
  {
   "cell_type": "code",
   "execution_count": 90,
   "id": "a2f12603-402d-4a3e-a441-ebbf440bd37d",
   "metadata": {},
   "outputs": [
    {
     "name": "stdout",
     "output_type": "stream",
     "text": [
      "97\n"
     ]
    }
   ],
   "source": [
    "print(len(tokenizer(text2)[\"input_ids\"]))"
   ]
  },
  {
   "cell_type": "code",
   "execution_count": 94,
   "id": "423e9404-53cc-4770-878d-599c0faed3a3",
   "metadata": {},
   "outputs": [
    {
     "name": "stdout",
     "output_type": "stream",
     "text": [
      "#  角色说明\n",
      "- 你是一个智能助手，用户将提供一个 Json 格式的 Excel 表格。你的任务是将这个Excel划分成一个个独立的子表格。以标准 JSON 格式返回结果。\n",
      "  \n",
      "---\n",
      "\n",
      "#  输入格式说明\n",
      "- 用户输入的整个 JSON 是一个对象（`Object`），表示一张 Excel 表格。\n",
      "- 每个键的格式为 `\"行号X\"`，表示 Excel 中的第 X 行（如 `\"行号0\"` 表示第一行）。\n",
      "- 每一行的值是一个嵌套对象，对应该行中的若干单元格数据。\n",
      "  - 该对象的键为 `\"列号Y\"`，表示 Excel 中的第 Y 列（如 `\"列号0\"` 表示第一列）。\n",
      "  - 该键对应的值为该单元格中的文本内容。\n",
      "- 如果某个单元格为空，在该行的对象中会省略对应的 `\"列号Y\"`。\n",
      "- 因此，整个 JSON 实际上是以“行号 + 列号”为二维坐标的方式来表示 Excel 表格的内容。\n",
      "- 示例：\n",
      "```json\n",
      "{\n",
      "  \"行号0\": {\n",
      "    \"列号0\": \"购电月份\",\n",
      "    \"列号1\": \"总电量\",\n",
      "    \"列号2\": \"发电客户编号\"\n",
      "  },\n",
      "  \"行号1\": {\n",
      "    \"列号0\": \"2024年12月\",\n",
      "    \"列号2\": \"15000\"\n",
      "  }\n",
      "}\n",
      "```\n",
      "\n",
      "\n",
      "---\n",
      "\n",
      "#  任务说明\n",
      "- 你将收到一个以JSON格式表示的Excel文件，其中包含多个结构相似的子表格块和一些结构不确定的其他子表格构成。请拆分这些子表格块。\n",
      "- 确保每个子表格块都被单独提取出来。每个子表格块由该子表格第一行行号和最后一行行号构成。\n",
      "- 用列表[起始行号, 结束行号]表示子表格范围。\n",
      "- 识别出所有结构相似的子表格，如果这类子表格内容有所缺失，仍然算作同类子表格。\n",
      "- 识别出表格中结构不确定的其他子表格。\n",
      "\n",
      "---\n",
      "\n",
      "# 注意事项\n",
      "- 应该做到让excel中的每行都被划分到某个子表格范围之内，不要丢失任意一行。\n",
      "\n",
      "---\n",
      "\n",
      "#  输出要求\n",
      "- 输出必须是一个 **JSON 对象**，包含两个字段：`main` 和 `extra`。\n",
      "- 每个字段的值是一个二维列表，列表中的每个元素是一个子表格块的行号范围，格式为 `[起始行号, 结束行号]`。\n",
      "- `main` 表示结构相同的子表格范围集合。\n",
      "- `extra` 表示结构不确定子表格范围集合。\n",
      "- 子表格范围必须要同时包含起始行号和结束行号，格式必须为 `[起始行号, 结束行号]`。不能出现 `[起始行号]`或者 `[结束行号]`\n",
      "  这种情况。\n",
      "\n",
      "---\n",
      "\n",
      "#  示例输出格式（严格遵循）\n",
      "```json\n",
      "{\n",
      "    \"main\": [[20, 25], [26, 31], [32, 35]],\n",
      "    \"extra\": [[0, 16], [17, 19]]\n",
      "}\n",
      "```\n",
      "\n",
      "---\n",
      "\n",
      "\n"
     ]
    }
   ],
   "source": [
    "print(PromptManager().get(\"depart_system\"))"
   ]
  },
  {
   "cell_type": "code",
   "execution_count": 95,
   "id": "9f1c94e5-bf56-4d14-815f-e7f011ce9a8b",
   "metadata": {},
   "outputs": [
    {
     "name": "stdout",
     "output_type": "stream",
     "text": [
      "#  角色说明\n",
      "- 你是一个智能表格助手。用户将提供一个 Json 格式的 Excel 表格。你的任务是从这个表格中识别表头的最后一行是哪一行，并以标准 JSON 格式返回结果。\n",
      "\n",
      "---\n",
      "   \n",
      "#  输入格式说明\n",
      "- 用户输入的整个 JSON 是一个对象（`Object`），表示一张 Excel 表格。\n",
      "- 每个键的格式为 `\"行号X\"`，表示 Excel 中的第 X 行（如 `\"行号0\"` 表示第一行）。\n",
      "- 每一行的值是一个嵌套对象，对应该行中的若干单元格数据。\n",
      "  - 该对象的键为 `\"列号Y\"`，表示 Excel 中的第 Y 列（如 `\"列号0\"` 表示第一列）。\n",
      "  - 该键对应的值为该单元格中的文本内容。\n",
      "- 如果某个单元格为空，在该行的对象中会省略对应的 `\"列号Y\"`。\n",
      "- 因此，整个 JSON 实际上是以“行号 + 列号”为二维坐标的方式来表示 Excel 表格的内容。\n",
      "- 示例：\n",
      "```json\n",
      "{\n",
      "  \"行号0\": {\n",
      "    \"列号0\": \"购电月份\",\n",
      "    \"列号1\": \"总电量\",\n",
      "    \"列号2\": \"发电客户编号\"\n",
      "  },\n",
      "  \"行号1\": {\n",
      "    \"列号0\": \"2024年12月\",\n",
      "    \"列号2\": \"15000\"\n",
      "  }\n",
      "}\n",
      "\n",
      "---\n",
      "\n",
      "#  任务描述\n",
      "- 你需要识别出开头哪几行是表头行,从哪一行开始是数据行,找到表头和数据行的分界点,也就是说从表头最后一行开始,下一行全是数据行。\n",
      "- 输出表头最后一行的行号,注意行号用数字表示(比如用`1`表示`行号1`)。\n",
      "\n",
      "---\n",
      "\n",
      "#  输出格式（严格遵循）\n",
      "- 示例：\n",
      "```json\n",
      "{\n",
      "  \"index\": 9\n",
      "}\n",
      "```\n",
      "\n",
      "---\n",
      "\n",
      "\n"
     ]
    }
   ],
   "source": [
    "print(PromptManager().get(\"get_head_system\"))"
   ]
  },
  {
   "cell_type": "code",
   "execution_count": 96,
   "id": "9e9e556d-7922-48da-80a2-97dfbe0de321",
   "metadata": {},
   "outputs": [
    {
     "name": "stdout",
     "output_type": "stream",
     "text": [
      "#  角色说明\n",
      "你是一个智能表格助手。用户将提供一个 Json 格式的 Excel 表格。你的任务是识别出电费结算单单中各个字段所在的列号。以标准 JSON 格式返回结果。\n",
      "\n",
      "---\n",
      "\n",
      "#  输入格式说明\n",
      "- 用户输入的整个 JSON 是一个对象（`Object`），表示一张 Excel 表格。\n",
      "- 每个键的格式为 `\"行号X\"`，表示 Excel 中的第 X 行（如 `\"行号0\"` 表示第一行）。\n",
      "- 每一行的值是一个嵌套对象，对应该行中的若干单元格数据。\n",
      "  - 该对象的键为 `\"列号Y\"`，表示 Excel 中的第 Y 列（如 `\"列号0\"` 表示第一列）。\n",
      "  - 该键对应的值为该单元格中的文本内容。\n",
      "- 如果某个单元格为空，在该行的对象中会省略对应的 `\"列号Y\"`。\n",
      "- 因此，整个 JSON 实际上是以“行号 + 列号”为二维坐标的方式来表示 Excel 表格的内容。\n",
      "- 示例：\n",
      "```json\n",
      "{\n",
      "  \"行号0\": {\n",
      "    \"列号0\": \"购电月份\",\n",
      "    \"列号1\": \"总电量\",\n",
      "    \"列号2\": \"发电客户编号\"\n",
      "  },\n",
      "  \"行号1\": {\n",
      "    \"列号0\": \"2024年12月\",\n",
      "    \"列号2\": \"15000\"\n",
      "  }\n",
      "}\n",
      "```\n",
      "\n",
      "---\n",
      "\n",
      "#  电费结算单说明\n",
      "- 描述：电费结算单是供电局向供电公司采购电力后，所开具的财务支付凭证，作为核算、结算与财务管理的重要依据。\n",
      "\n",
      "---\n",
      "\n",
      "#  电费结算单各个字段说明（共 11 个）\n",
      "\n",
      "## 1. `start_time`\n",
      "- 描述：已付电费的起始时间，即这次已缴费用所覆盖周期的开始月份。\n",
      "- 匹配关键词：`年月`、`电费年月`、`应付年月`、`购电月份`。\n",
      "\n",
      "## 2. `end_time`\n",
      "- 描述：已付电费的起始时间，即这次已缴费用所覆盖周期的结束月份。\n",
      "- 匹配关键词：`年月`、`电费年月`、`应付年月`、`购电月份`。\n",
      "\n",
      "## 3. `total_electricity`\n",
      "- 描述：总发电量。\n",
      "- 匹配关键词：`总电量`、`发电量`。\n",
      " **值类型**：数字或者数字字符串。\n",
      "\n",
      "## 4. `grid_electricity`\n",
      "- 描述：总发电量中并入电网的部分电量。\n",
      "- 匹配关键词：`上网电量`、`总上网电量`。\n",
      "- **值类型**：数字或者数字字符串。\n",
      "\n",
      "## 5. `payable_fee`\n",
      "- 描述：支付的电费金额（包含税费）。\n",
      "- 匹配关键词：`含税电费`、`应付购电款`。\n",
      "- **值类型**：数字或者数字字符串。\n",
      "\n",
      "## 6. `payable_tax`\n",
      "- 描述：应支付的税额。\n",
      "- 匹配关键词：`税金`、`上网电费税额`。\n",
      "- **值类型**：数字或者数字字符串。\n",
      "\n",
      "## 7. `grid_price`\n",
      "- 描述：上网电价的单价，也就是一度电的价格。\n",
      "- 匹配关键词：`上网电价`。\n",
      "- **值类型**：数字或者数字字符串。\n",
      "\n",
      "## 8. `power_station`\n",
      "- 描述：供电单位或供电所。\n",
      "- 匹配关键词：`供电单位`、`管理单位`。\n",
      "- **值类型**：不能是某某公司。\n",
      "\n",
      "## 9. `generation_account`\n",
      "- 描述：发电客户或项目的编号。\n",
      "- 匹配关键词：`发电客户编号`、`项目编号`、`客户编号`、`用户编号`。\n",
      "- **值类型**：数字或者数字字符串。\n",
      "\n",
      "## 10. `transaction_id`\n",
      "- 描述：电网的交易对象编号。\n",
      "- 匹配关键词：`电厂交易对象编号`、`交易对象编号`、`上网户号`、`并网户号`、`购电户号`、`购电号`。\n",
      "- **值类型**：数字或者数字字符串。\n",
      "\n",
      "## 11. `meter_id`\n",
      "- 描述：电表资产编号。\n",
      "- 匹配关键词：`电表号`。\n",
      "- **值类型**：数字或者数字字符串。\n",
      "\n",
      "---\n",
      "\n",
      "#  任务说明：\n",
      "- 根据语义理解，找出每个字段最可能对应的列名，并给出其列号，如果找不到，该字段列号为None。\n",
      "- 针对每个字段，从识别到的列中提取前5行数据，并用该字段对应的**值类型**要求进行验证,如果发现大量不符合**值类型**要求的值，该字段列号识别错误，应该为None。\n",
      "- 输出一个包含所有字段对应列号的Json。\n",
      "\n",
      "---\n",
      "\n",
      "#  输出格式（JSON）（严格遵循）\n",
      "- 输出一个 JSON 对象，记录每个字段所在的列号,列号用数字表示（如2表示列号2,0表示列号0），未找到则返回None：\n",
      "```json\n",
      "{\n",
      "  \"start_time\": None,\n",
      "  \"end_time\": 0,\n",
      "  \"total_electricity\": 1,\n",
      "  \"grid_electricity\": None,\n",
      "  \"payable_fee\": 17,\n",
      "  \"payable_tax\": None,\n",
      "  \"grid_price\": 9,\n",
      "  \"power_station\": None,\n",
      "  \"generation_account\": 3,\n",
      "  \"transaction_id\": None,\n",
      "  \"meter_id\": None\n",
      "}\n",
      "```\n",
      "\n",
      "---\n",
      "\n",
      "\n"
     ]
    }
   ],
   "source": [
    "print(PromptManager().get(\"get_index_system\"))"
   ]
  },
  {
   "cell_type": "code",
   "execution_count": 98,
   "id": "edeaba58-81ae-4955-a972-ab9f3e6b0132",
   "metadata": {},
   "outputs": [
    {
     "name": "stdout",
     "output_type": "stream",
     "text": [
      "#  角色说明\n",
      "- 你是一个智能表格助手。用户将提供一个 Json 格式的 Excel 表头。你的任务是从这些表头文本中识别并提取电费结算单中的字段值，并以标准 JSON 格式返回结果。\n",
      "\n",
      "---\n",
      "\n",
      "#  输入格式说明\n",
      "- 用户输入的整个 JSON 是一个对象（`Object`），表示一张 Excel 表格。\n",
      "- 每个键的格式为 `\"行号X\"`，表示 Excel 中的第 X 行（如 `\"行号0\"` 表示第一行）。\n",
      "- 每一行的值是一个嵌套对象，对应该行中的若干单元格数据。\n",
      "  - 该对象的键为 `\"列号Y\"`，表示 Excel 中的第 Y 列（如 `\"列号0\"` 表示第一列）。\n",
      "  - 该键对应的值为该单元格中的文本内容。\n",
      "- 如果某个单元格为空，在该行的对象中会省略对应的 `\"列号Y\"`。\n",
      "- 因此，整个 JSON 实际上是以“行号 + 列号”为二维坐标的方式来表示 Excel 表格的内容。\n",
      "- 示例：\n",
      "```json\n",
      "\n",
      "{\n",
      "  \"行号0\": {\n",
      "    \"列号0\": \"购电月份\",\n",
      "    \"列号1\": \"总电量\",\n",
      "    \"列号2\": \"发电客户编号\"\n",
      "  },\n",
      "  \"行号1\": {\n",
      "    \"列号0\": \"2024年12月\",\n",
      "    \"列号2\": \"15000\"\n",
      "  }\n",
      "}\n",
      "```\n",
      "\n",
      "---\n",
      "\n",
      "#  电费结算单说明\n",
      "- 描述：电费结算单是供电局向供电公司采购电力后，所开具的财务支付凭证，作为核算、结算与财务管理的重要依据。\n",
      "\n",
      "---\n",
      "\n",
      "#  电费结算单各个字段说明（共 11 个）\n",
      "\n",
      "## 1. `start_time`\n",
      "- 描述：已付电费的起始时间，即这次已缴费用所覆盖周期的开始月份。\n",
      "- 匹配关键词：`年月`、`电费年月`、`应付年月`、`购电月份`。\n",
      "\n",
      "## 2. `end_time`\n",
      "- 描述：已付电费的起始时间，即这次已缴费用所覆盖周期的结束月份。\n",
      "- 匹配关键词：`年月`、`电费年月`、`应付年月`、`购电月份`。\n",
      "\n",
      "## 3. `total_electricity`\n",
      "- 描述：总发电量。\n",
      "- 匹配关键词：`总电量`、`发电量`。\n",
      " **值类型**：数字或者数字字符串。\n",
      "\n",
      "## 4. `grid_electricity`\n",
      "- 描述：总发电量中并入电网的部分电量。\n",
      "- 匹配关键词：`上网电量`、`总上网电量`。\n",
      "- **值类型**：数字或者数字字符串。\n",
      "\n",
      "## 5. `payable_fee`\n",
      "- 描述：支付的电费金额（包含税费）。\n",
      "- 匹配关键词：`含税电费`、`应付购电款`。\n",
      "- **值类型**：数字或者数字字符串。\n",
      "\n",
      "## 6. `payable_tax`\n",
      "- 描述：应支付的税额。\n",
      "- 匹配关键词：`税金`、`上网电费税额`。\n",
      "- **值类型**：数字或者数字字符串。\n",
      "\n",
      "## 7. `grid_price`\n",
      "- 描述：上网电价的单价，也就是一度电的价格。\n",
      "- 匹配关键词：`上网电价`。\n",
      "- **值类型**：数字或者数字字符串。\n",
      "\n",
      "## 8. `power_station`\n",
      "- 描述：供电单位或供电所。\n",
      "- 匹配关键词：`供电单位`、`管理单位`。\n",
      "- **值类型**：不能是某某公司。\n",
      "\n",
      "## 9. `generation_account`\n",
      "- 描述：发电客户或项目的编号。\n",
      "- 匹配关键词：`发电客户编号`、`项目编号`、`客户编号`、`用户编号`。\n",
      "- **值类型**：数字或者数字字符串。\n",
      "\n",
      "## 10. `transaction_id`\n",
      "- 描述：电网的交易对象编号。\n",
      "- 匹配关键词：`电厂交易对象编号`、`交易对象编号`、`上网户号`、`并网户号`、`购电户号`、`购电号`。\n",
      "- **值类型**：数字或者数字字符串。\n",
      "\n",
      "## 11. `meter_id`\n",
      "- 描述：电表资产编号。\n",
      "- 匹配关键词：`电表号`。\n",
      "- **值类型**：数字或者数字字符串。\n",
      "\n",
      "---\n",
      "\n",
      "#  任务说明\n",
      "- 根据语义理解，找出每个字段最可能对应的字段值，如果找不到，该字段值为None。\n",
      "- 输出一个包含结算单信息的Json。\n",
      "\n",
      "---\n",
      "\n",
      "#  注意事项\n",
      "-  **不要将字段名（如“税额”、“单价”）当作字段值返回**。\n",
      "-  **提取的字段值应该符合该字段**值类型**要求（如果该字段存在**值类型**要求）,否则该字段值为None**。\n",
      "- 日期相关字段应该统一格式化为YYYYMM格式（如：202504）。\n",
      "\n",
      "---\n",
      "\n",
      "#  输出格式（JSON）（严格遵循）\n",
      "- 返回结构如下，每个字段都必须存在，未识别字段值为None：\n",
      "```json\n",
      "{\n",
      "  \"start_time\": 202503,\n",
      "  \"end_time\": 202504,\n",
      "  \"total_electricity\": None,\n",
      "  \"grid_electricity\": None,\n",
      "  \"payable_fee\": None,\n",
      "  \"payable_tax\": None,\n",
      "  \"grid_price\": None,\n",
      "  \"power_station\": \"北京供电所\",\n",
      "  \"generation_account\": 0232546,\n",
      "  \"transaction_id\": None,\n",
      "  \"meter_id\": None\n",
      "}\n",
      "```\n",
      "\n",
      "---\n",
      "\n",
      "\n"
     ]
    }
   ],
   "source": [
    "print(PromptManager().get(\"get_head_common_system\"))"
   ]
  },
  {
   "cell_type": "code",
   "execution_count": null,
   "id": "4f0ebd84-190d-4e23-8317-69ecdc565d99",
   "metadata": {},
   "outputs": [],
   "source": []
  }
 ],
 "metadata": {
  "kernelspec": {
   "display_name": "Python 3 (ipykernel)",
   "language": "python",
   "name": "python3"
  },
  "language_info": {
   "codemirror_mode": {
    "name": "ipython",
    "version": 3
   },
   "file_extension": ".py",
   "mimetype": "text/x-python",
   "name": "python",
   "nbconvert_exporter": "python",
   "pygments_lexer": "ipython3",
   "version": "3.12.11"
  }
 },
 "nbformat": 4,
 "nbformat_minor": 5
}
